{
  "nbformat": 4,
  "nbformat_minor": 0,
  "metadata": {
    "colab": {
      "provenance": [],
      "authorship_tag": "ABX9TyNqChiWaMrKBUkLDr0k0Jjn",
      "include_colab_link": true
    },
    "kernelspec": {
      "name": "python3",
      "display_name": "Python 3"
    },
    "language_info": {
      "name": "python"
    }
  },
  "cells": [
    {
      "cell_type": "markdown",
      "metadata": {
        "id": "view-in-github",
        "colab_type": "text"
      },
      "source": [
        "<a href=\"https://colab.research.google.com/github/FREYDER18/SYS/blob/main/ESTUDIIO_PYTHON.ipynb\" target=\"_parent\"><img src=\"https://colab.research.google.com/assets/colab-badge.svg\" alt=\"Open In Colab\"/></a>"
      ]
    },
    {
      "cell_type": "code",
      "execution_count": null,
      "metadata": {
        "colab": {
          "base_uri": "https://localhost:8080/"
        },
        "id": "0vS5j5rNx6Kx",
        "outputId": "44ee5abf-b961-420d-8770-0bc620e2753a"
      },
      "outputs": [
        {
          "output_type": "stream",
          "name": "stdout",
          "text": [
            "hola freyder\n"
          ]
        }
      ],
      "source": [
        "#guardar informacion\n",
        "nombre = \"freyder\"\n",
        "print(\"hola\", nombre) # funcion print imrime el resultado"
      ]
    },
    {
      "cell_type": "code",
      "source": [
        "#sumar numeros\n",
        "a = 2\n",
        "b = 4\n",
        "c = 10\n",
        "suma = a + b + c\n",
        "print(\"la suma total es;\", suma)"
      ],
      "metadata": {
        "colab": {
          "base_uri": "https://localhost:8080/"
        },
        "id": "n-oTQtyvx_VT",
        "outputId": "ea9ec180-8f15-49cb-f323-b40cb564ecee"
      },
      "execution_count": null,
      "outputs": [
        {
          "output_type": "stream",
          "name": "stdout",
          "text": [
            "la suma total es; 16\n"
          ]
        }
      ]
    },
    {
      "cell_type": "code",
      "source": [
        "#leer algo que escriba el usuario\n",
        "nombre = input(\"cual es tu nombre;\")\n",
        "print(\"hola\", nombre)"
      ],
      "metadata": {
        "colab": {
          "base_uri": "https://localhost:8080/"
        },
        "id": "83E6c719y-Xm",
        "outputId": "9838600f-fa24-4f08-a81d-ba99b3da0d0a"
      },
      "execution_count": null,
      "outputs": [
        {
          "output_type": "stream",
          "name": "stdout",
          "text": [
            "cual es tu nombre;freyder \n",
            "hola freyder \n"
          ]
        }
      ]
    },
    {
      "cell_type": "markdown",
      "source": [
        "- USO DE CONDICIONALES"
      ],
      "metadata": {
        "id": "q9vyRe4F0vDL"
      }
    },
    {
      "cell_type": "code",
      "source": [
        "a = input(\"cual es tu edad?\")\n",
        "a = int(a)\n",
        "edad = a\n",
        "if edad >= 18:\n",
        "  print(\"eres mayor de edad\")\n",
        "else:\n",
        "  print(\"eres menor de edad\")"
      ],
      "metadata": {
        "colab": {
          "base_uri": "https://localhost:8080/"
        },
        "id": "f6p1okbD05UC",
        "outputId": "4f5479a2-3d30-48ff-c936-8904720f88d1"
      },
      "execution_count": null,
      "outputs": [
        {
          "output_type": "stream",
          "name": "stdout",
          "text": [
            "cual es tu edad?45\n",
            "eres mayor de edad\n"
          ]
        }
      ]
    },
    {
      "cell_type": "code",
      "source": [
        "print(\"no mayor a 10\")\n",
        "nota = int(input(\"cual es tu nota\"))\n",
        "if nota == 10:\n",
        "  print(\"exelente\")\n",
        "elif nota >= 6:\n",
        "    print(\"aprobado\")\n",
        "else:\n",
        "      print(\"reprobado\")\n"
      ],
      "metadata": {
        "colab": {
          "base_uri": "https://localhost:8080/"
        },
        "id": "rqTaDolH6tnF",
        "outputId": "e8bef19b-1670-4190-fc7c-4009b16fa200"
      },
      "execution_count": null,
      "outputs": [
        {
          "output_type": "stream",
          "name": "stdout",
          "text": [
            "no mayor a 10\n",
            "cual es tu nota7\n",
            "aprobado\n"
          ]
        }
      ]
    },
    {
      "cell_type": "code",
      "source": [
        "numero = int(input(\"ingrese el numero\")) # int declara una variable un numero entero\n",
        "\n",
        "if numero > 0: # condicional if \"si\"\n",
        "\n",
        "  print(\"el nuemro es positivo\")\n",
        "elif numero < 0: # condicional elif \"si no\"pero otra condicion\n",
        "  print(\"numemro es negativo\")\n",
        "else: # condicional else \"si no\"\n",
        "  print(\"el numero es cero\")"
      ],
      "metadata": {
        "colab": {
          "base_uri": "https://localhost:8080/"
        },
        "id": "StdLdujS6tip",
        "outputId": "b4c242b1-b416-480b-c754-b8fcd91e76a4"
      },
      "execution_count": null,
      "outputs": [
        {
          "output_type": "stream",
          "name": "stdout",
          "text": [
            "ingrese el numero0\n",
            "el numero es cero\n"
          ]
        }
      ]
    },
    {
      "cell_type": "code",
      "source": [
        "usuario = input(\"escribe tu nombre\")\n",
        "if usuario == \"freyder\": # == igual a\n",
        "  print(\"hola, bienebenido\")\n",
        "else:\n",
        "  print(\"hola,\", usuario, \"bienvenido\")\n"
      ],
      "metadata": {
        "colab": {
          "base_uri": "https://localhost:8080/"
        },
        "id": "X_rSapi8ECVk",
        "outputId": "c586e0cd-1003-4650-834b-f7cab227f931"
      },
      "execution_count": null,
      "outputs": [
        {
          "output_type": "stream",
          "name": "stdout",
          "text": [
            "escribe tu nombrefreyder\n",
            "hola, bienebenido\n"
          ]
        }
      ]
    },
    {
      "cell_type": "markdown",
      "source": [
        "- ciclos - while - for"
      ],
      "metadata": {
        "id": "wif40N1jHnH9"
      }
    },
    {
      "cell_type": "code",
      "source": [
        "# ciclo while \"se repite mientras algo sea verdadero\"\n",
        "i = 1\n",
        "while i <= 10:\n",
        "  print(i)\n",
        "  i += 1 # suam i + 1\n"
      ],
      "metadata": {
        "colab": {
          "base_uri": "https://localhost:8080/"
        },
        "id": "7bDv7zS0Fydu",
        "outputId": "f18109a8-16c8-436c-ab9e-31a0b6b8b364"
      },
      "execution_count": null,
      "outputs": [
        {
          "output_type": "stream",
          "name": "stdout",
          "text": [
            "1\n",
            "2\n",
            "3\n",
            "4\n",
            "5\n",
            "6\n",
            "7\n",
            "8\n",
            "9\n",
            "10\n"
          ]
        }
      ]
    },
    {
      "cell_type": "code",
      "source": [
        "# ciclo for \"correr unas lista de datos\"\n",
        "numero = int(input(\"ingrese el numeo\"))\n",
        "for i in range(0, 11):\n",
        "  print(numero, \"x\", i, \"=\", numero*i)\n"
      ],
      "metadata": {
        "colab": {
          "base_uri": "https://localhost:8080/"
        },
        "id": "CV6y4Bh2J9Mt",
        "outputId": "664be418-5c81-4e38-e6fd-5e048a232fd7"
      },
      "execution_count": null,
      "outputs": [
        {
          "output_type": "stream",
          "name": "stdout",
          "text": [
            "ingrese el numeo1\n",
            "1 x 0 = 0\n",
            "1 x 1 = 1\n",
            "1 x 2 = 2\n",
            "1 x 3 = 3\n",
            "1 x 4 = 4\n",
            "1 x 5 = 5\n",
            "1 x 6 = 6\n",
            "1 x 7 = 7\n",
            "1 x 8 = 8\n",
            "1 x 9 = 9\n",
            "1 x 10 = 10\n"
          ]
        }
      ]
    },
    {
      "cell_type": "markdown",
      "source": [
        "\n",
        "\n",
        "- crear listas\n",
        "\n",
        "coleccion de datos ordenados, guarda muchos valores (numeros, textos, etc) en una sola variable.\n"
      ],
      "metadata": {
        "id": "R4jS4CH2ZJ9P"
      }
    },
    {
      "cell_type": "code",
      "source": [
        "frutas = [\"manzana\", \"banana\", \"naranja\", \"pera\"] #[] encierra las listas\n",
        "\n",
        "print(frutas)\n",
        "print(len(frutas))"
      ],
      "metadata": {
        "colab": {
          "base_uri": "https://localhost:8080/"
        },
        "id": "8cjqO2X-ZIrk",
        "outputId": "f232c293-eacc-4f1c-b186-d769bd3be394"
      },
      "execution_count": null,
      "outputs": [
        {
          "output_type": "stream",
          "name": "stdout",
          "text": [
            "['manzana', 'banana', 'naranja', 'pera']\n",
            "4\n"
          ]
        }
      ]
    },
    {
      "cell_type": "code",
      "source": [
        "from os import remove # impitrtando funciones\n",
        "\n",
        "comidas = [\"carne\", \"pollo\", \"atun\", \"fideos\"] # [] encierra las listas\n",
        "\n",
        "nueva = input(\"ingrese las nuevas comidas:\") # input es una funcion que se sa para que el usuario digite informacion\n",
        "\n",
        "Lnueva = nueva.split(\",\") # .split divide una lista con una ,\n",
        "\n",
        "comidas.extend(Lnueva)\n",
        "\n",
        "print(\"lista nuevos agregados\", comidas)\n",
        "\n",
        "nover = input(\"ingrese comidas a eliminar de caso dar enter\")\n",
        "\n",
        "Rnueva= nover.split(\",\")\n",
        "# para eliminar las comidas aplicamos in ciclo\n",
        "\n",
        "for comida in Rnueva:\n",
        "  comida = comida.strip()\n",
        "if comida in comidas:\n",
        "    comidas.remove(comida)\n",
        "else:\n",
        "  print(f\"La comida {comida} no esta en la lista\")\n",
        "print(\"lista actualizada\", comidas)\n",
        "\n",
        "print(len(comidas))"
      ],
      "metadata": {
        "colab": {
          "base_uri": "https://localhost:8080/"
        },
        "id": "zEmtbiBrJKST",
        "outputId": "cf1d4976-67e1-484f-fb75-b6066a9351bc"
      },
      "execution_count": null,
      "outputs": [
        {
          "output_type": "stream",
          "name": "stdout",
          "text": [
            "ingrese las nuevas comidas:fresa, pera, pizza\n",
            "lista nuevos agregados ['carne', 'pollo', 'atun', 'fideos', 'fresa', ' pera', ' pizza']\n",
            "ingrese comidas a eliminar de caso dar entercarne\n",
            "lista actualizada ['pollo', 'atun', 'fideos', 'fresa', ' pera', ' pizza']\n",
            "6\n"
          ]
        }
      ]
    },
    {
      "cell_type": "code",
      "source": [
        "lista = [\"pan\", \"leche\", \"arroz\", \"huevos\"]\n",
        "\n",
        "nuevosP =  input(\"ingresa nuevos productos\")\n",
        "\n",
        "RnuevosP = nuevosP.split(\",\")\n",
        "lista.extend(RnuevosP)\n",
        "\n",
        "print(\"liata actualizada\", lista)"
      ],
      "metadata": {
        "colab": {
          "base_uri": "https://localhost:8080/"
        },
        "id": "62PVf6SI9HwR",
        "outputId": "ef7516c6-e68d-4824-aa1b-f635d61c4c67"
      },
      "execution_count": null,
      "outputs": [
        {
          "output_type": "stream",
          "name": "stdout",
          "text": [
            "ingresa nuevos productosPERA\n",
            "liata actualizada ['pan', 'leche', 'arroz', 'huevos', 'PILAS', ' MANGO', ' MERO']\n"
          ]
        }
      ]
    },
    {
      "cell_type": "markdown",
      "source": [
        "- **TUPALS**\n",
        "ES COMO UNA LISTA PERO CON UNA DIFERENCIA\n",
        "-- NO SE PUEDE MODIFICAR DESPUES DE SER CREADA\n",
        "\n",
        "\n",
        "se puede guardar cualquier tipo de datos"
      ],
      "metadata": {
        "id": "yPhdWU1UqzUj"
      }
    },
    {
      "cell_type": "code",
      "source": [
        "# COMO SE CREA UNA TUPLA\n",
        "tupla= (\"manzana\", \"pera\", \"naranja\") # se la define mediante ()\n",
        "print(tupla)"
      ],
      "metadata": {
        "colab": {
          "base_uri": "https://localhost:8080/"
        },
        "id": "75NBUuUjrH45",
        "outputId": "4a439ab7-58ed-46f2-8d04-6c6b46f37f6d"
      },
      "execution_count": null,
      "outputs": [
        {
          "output_type": "stream",
          "name": "stdout",
          "text": [
            "('manzana', 'pera', 'naranja')\n"
          ]
        }
      ]
    },
    {
      "cell_type": "code",
      "source": [
        "colores = (\"rojo\", \"azul\", \"verde\",\"naranja\", \"negro\")\n",
        "print(colores[4])\n",
        "\n",
        "print(len(colores)) #  la funcion len() la cantidad de elementos que se encuentran"
      ],
      "metadata": {
        "colab": {
          "base_uri": "https://localhost:8080/"
        },
        "id": "IDT3_yVhrndq",
        "outputId": "b8f08923-8417-4b02-a9b9-ed587a123f06"
      },
      "execution_count": null,
      "outputs": [
        {
          "output_type": "stream",
          "name": "stdout",
          "text": [
            "negro\n",
            "5\n"
          ]
        }
      ]
    },
    {
      "cell_type": "markdown",
      "source": [
        "- QUE COSAS SE PUEDEN HACER Y NO  EN UNA TUPLA\n",
        "\n",
        "- ACCEDER A ELEMENTOS [ i ]\n",
        "\n",
        "- RECORRER CON EL CICLO FOR\n",
        "\n",
        "- SABER CUANTOS ELEMENTOS TIENEN\n",
        "\n",
        "- NO SE PUEDEN AGRGAR O QUITAR ELEMENTOS\n",
        "\n",
        "- NO SE PUEDE MODIFICAR\n",
        "\n",
        "CUANDO USAR UNA TUPLA\n",
        "\n",
        "   -  Los datos no deben cambiar (como los días de la semana)\n",
        "\n",
        "   - Quieres proteger la información\n",
        "\n",
        "   - Necesitas que ocupen menos memoria que una lista\n",
        "\n",
        "\n",
        "\n"
      ],
      "metadata": {
        "id": "BbDX5JCTsjY9"
      }
    },
    {
      "cell_type": "code",
      "source": [
        "frutas = (\"manzana\", \"pera\", \"uva\")\n",
        "print(frutas)\n",
        "print(\"Primera fruta:\", frutas[0])\n"
      ],
      "metadata": {
        "colab": {
          "base_uri": "https://localhost:8080/"
        },
        "id": "JmD7ouvut5ET",
        "outputId": "6225c643-220e-432f-edef-73de67c1ca87"
      },
      "execution_count": null,
      "outputs": [
        {
          "output_type": "stream",
          "name": "stdout",
          "text": [
            "('manzana', 'pera', 'uva')\n",
            "Primera fruta: manzana\n"
          ]
        }
      ]
    },
    {
      "cell_type": "code",
      "source": [
        "numeros = (10, 20, 30, 40, 50, 70, 80)\n",
        "print(\"Numeros:\", numeros)\n",
        "print(\"Cantidad de elementos:\", len(numeros))\n"
      ],
      "metadata": {
        "colab": {
          "base_uri": "https://localhost:8080/"
        },
        "id": "mi4WVd34uH7E",
        "outputId": "771dd645-7aec-4194-e9c0-b21c8382a63f"
      },
      "execution_count": null,
      "outputs": [
        {
          "output_type": "stream",
          "name": "stdout",
          "text": [
            "Numeros: (10, 20, 30, 40, 50, 70, 80)\n",
            "Cantidad de elementos: 7\n"
          ]
        }
      ]
    },
    {
      "cell_type": "code",
      "source": [
        "persona = (\"Carlos\", 30, 1.75, True)\n",
        "print(\"Nombre:\", persona[0])\n",
        "print(\"¿Es mayor de edad?\", persona[3])\n"
      ],
      "metadata": {
        "colab": {
          "base_uri": "https://localhost:8080/"
        },
        "id": "fPxbrsDiub3v",
        "outputId": "f35b1235-1afd-4c73-9503-e4316110c957"
      },
      "execution_count": null,
      "outputs": [
        {
          "output_type": "stream",
          "name": "stdout",
          "text": [
            "Nombre: Carlos\n",
            "¿Es mayor de edad? True\n"
          ]
        }
      ]
    },
    {
      "cell_type": "markdown",
      "source": [
        "**TUPLA DENTRO DE UNA LISTA**"
      ],
      "metadata": {
        "id": "8cJ_5Z-9u_c0"
      }
    },
    {
      "cell_type": "code",
      "source": [
        "personas = [(\"Ana\", 25), (\"Luis\", 30), (\"Marta\", 22), (\"Andrea\", 19)]\n",
        "for nombre, edad in personas:\n",
        "    print(nombre, \"tiene\", edad, \"años\")"
      ],
      "metadata": {
        "colab": {
          "base_uri": "https://localhost:8080/"
        },
        "id": "leWPYhh9vGM4",
        "outputId": "753056a4-d182-4b7c-d28f-8544a8425735"
      },
      "execution_count": null,
      "outputs": [
        {
          "output_type": "stream",
          "name": "stdout",
          "text": [
            "Ana tiene 25 años\n",
            "Luis tiene 30 años\n",
            "Marta tiene 22 años\n",
            "Andrea tiene 19 años\n"
          ]
        }
      ]
    },
    {
      "cell_type": "code",
      "source": [
        "dias = (\"lunes\", \"martes\", \"miércoles\", \"jueves\", \"viernes\", \"sábado\", \"domingo\")\n",
        "\n",
        "print(\"Día 1:\", dias[0])\n",
        "print(\"Total de días:\", len(dias))\n"
      ],
      "metadata": {
        "colab": {
          "base_uri": "https://localhost:8080/"
        },
        "id": "N3tsBsgBv2XG",
        "outputId": "965509e0-9cd5-4d8e-e023-08d973cc7686"
      },
      "execution_count": null,
      "outputs": [
        {
          "output_type": "stream",
          "name": "stdout",
          "text": [
            "Día 1: lunes\n",
            "Total de días: 7\n"
          ]
        }
      ]
    },
    {
      "cell_type": "code",
      "source": [
        "vacia = ()\n",
        "print(\"Tupla vacía:\", vacia)\n",
        "print(\"Elementos:\", len(vacia))  # Resultado: 0\n"
      ],
      "metadata": {
        "colab": {
          "base_uri": "https://localhost:8080/"
        },
        "id": "SmNQVlF8wZk3",
        "outputId": "f0591638-9f26-41c8-8ab0-3755cace616c"
      },
      "execution_count": null,
      "outputs": [
        {
          "output_type": "stream",
          "name": "stdout",
          "text": [
            "Tupla vacía: ()\n",
            "Elementos: 0\n"
          ]
        }
      ]
    },
    {
      "cell_type": "code",
      "source": [
        "longitud = input(\"ingrese latitud:\")\n",
        "latitud = input(\"ingrese longitud:\")\n",
        "longitud = float(longitud)\n",
        "latitud = float(latitud)\n",
        "\n",
        "ubicacion = (longitud, \"° N\")\n",
        "ubicacacion2 = (latitud, \"° E\")\n",
        "print(\"ubicacion:\", ubicacion, ubicacacion2)\n",
        "\n",
        "\n",
        "\n"
      ],
      "metadata": {
        "colab": {
          "base_uri": "https://localhost:8080/"
        },
        "id": "rH_ytBJaw3Ns",
        "outputId": "3d4848f7-0a77-486b-cda4-cfd0e5ba4010"
      },
      "execution_count": null,
      "outputs": [
        {
          "output_type": "stream",
          "name": "stdout",
          "text": [
            "ingrese latitud:-34.43434\n",
            "ingrese longitud:45.4444\n",
            "ubicacion: (-34.43434, '° N') (45.4444, '° E')\n"
          ]
        }
      ]
    },
    {
      "cell_type": "code",
      "source": [],
      "metadata": {
        "id": "HgwEQRIjzbOL"
      },
      "execution_count": null,
      "outputs": []
    },
    {
      "cell_type": "markdown",
      "source": [
        "**DICCIONARIOS**\n",
        "\n",
        "ES UNA ESTRUCTURA QUE GUARDA PARES DE DATOS\n",
        "\n",
        "- UNA CLABE\n",
        "- UN VALOR\n",
        "SU ESTRURA ES ENTRE {  } Y CADA VALOR SE ACCEDE CON SU CLAVE"
      ],
      "metadata": {
        "id": "55xSaYQp4OEH"
      }
    },
    {
      "cell_type": "code",
      "source": [
        "persona = {\n",
        " \"nombre\": \"Lucía\",\n",
        "    \"edad\": 28,\n",
        "    \"ciudad\": \"Lima\"\n",
        "}\n",
        "\"\"\"\n",
        "\"nombre\" es la clave → \"Lucía\" es el valor\n",
        "\"edad\" → 28\n",
        "\"ciudad\" → \"Lima\"\n",
        "\"\"\"\n",
        "\n"
      ],
      "metadata": {
        "colab": {
          "base_uri": "https://localhost:8080/",
          "height": 36
        },
        "id": "Ovl4el6T41nH",
        "outputId": "5e873f2b-6180-4829-e43c-133d80b7e78b"
      },
      "execution_count": null,
      "outputs": [
        {
          "output_type": "execute_result",
          "data": {
            "text/plain": [
              "'\\n\"nombre\" es la clave → \"Lucía\" es el valor\\n\"edad\" → 28\\n\"ciudad\" → \"Lima\"\\n'"
            ],
            "application/vnd.google.colaboratory.intrinsic+json": {
              "type": "string"
            }
          },
          "metadata": {},
          "execution_count": 33
        }
      ]
    },
    {
      "cell_type": "markdown",
      "source": [
        "CUANDO USSAR DICCIONARIO\n",
        "\n",
        "- Para representar cosas con nombre y valor (como datos de una persona, producto, ubicación)\n",
        "\n",
        "- Cuando necesitas acceder rápido a información por una clave (como una agenda de contactos)"
      ],
      "metadata": {
        "id": "lvIo85sh52nl"
      }
    },
    {
      "cell_type": "code",
      "source": [
        "# DATOS DE UNA PERSONA\n",
        "\n",
        "persona = {\n",
        "    \"nombre\": \"karol\",\n",
        "    \"edad\": 24,\n",
        "    \"ciudad\": \"medellin\"\n",
        "}\n",
        "print(\"datos actuales\")\n",
        "for clave, valor in persona.items():\n",
        "   print(clave, \":\", valor)\n",
        "\n",
        "clavemodificar = input(\"\\n¿dato que deseas modificar? (nombr, edad, ciudad):\")\n",
        "\n",
        "\n",
        "# Verificamos si la clave existe\n",
        "\n",
        "if clavemodificar in persona:\n",
        "  nnuevo = input(\"ingresa nuevo valor para\" + clavemodificar + \":\")\n",
        "\n",
        "  # Si es edad, la convertimos a número\n",
        "\n",
        "  if clavemodificar == \"edad\":\n",
        "      persona[clavemodificar] = int(nnuevo)\n",
        "  else:\n",
        "      persona[clavemodificar] = nnuevo\n",
        "\n",
        "      print(\"\\ndatos actualizados:\")\n",
        "  for clave, valor in persona.items():\n",
        "        print(clave, \":\", valor)\n",
        "\n",
        "else:\n",
        " print(\"clave no encontrada\")\n",
        "\n"
      ],
      "metadata": {
        "colab": {
          "base_uri": "https://localhost:8080/"
        },
        "id": "tGT9GfLg6IC3",
        "outputId": "0aac7b2d-9fcd-4da5-9539-72af26d569a0"
      },
      "execution_count": null,
      "outputs": [
        {
          "output_type": "stream",
          "name": "stdout",
          "text": [
            "datos actuales\n",
            "nombre : karol\n",
            "edad : 24\n",
            "ciudad : medellin\n",
            "\n",
            "¿dato que deseas modificar? (nombr, edad, ciudad):edad\n",
            "ingresa nuevo valor paraedad:22\n",
            "nombre : karol\n",
            "edad : 22\n",
            "ciudad : medellin\n"
          ]
        }
      ]
    },
    {
      "cell_type": "markdown",
      "source": [
        "**SETS**\n",
        "\n",
        "- Un set es una colección no ordenada de elementos únicos.\n",
        "\n",
        "- No puede tener elementos repetidos.\n",
        "\n",
        "- No usa índices (no puedes acceder por posición).\n",
        "\n",
        "- Es útil cuando quieres almacenar elementos sin duplicados y sin importar el orden.\n"
      ],
      "metadata": {
        "id": "QZmoEIG2F2hC"
      }
    },
    {
      "cell_type": "code",
      "source": [
        "set_mi = {1, 2, 3, 4, 4, 5, 1}\n",
        "print(set_mi)\n"
      ],
      "metadata": {
        "colab": {
          "base_uri": "https://localhost:8080/"
        },
        "id": "_67aBCR3G7ZH",
        "outputId": "926243eb-3d23-4a02-c0a3-56140c599c4c"
      },
      "execution_count": null,
      "outputs": [
        {
          "output_type": "stream",
          "name": "stdout",
          "text": [
            "{1, 2, 3, 4, 5}\n"
          ]
        }
      ]
    },
    {
      "cell_type": "code",
      "source": [
        "numeros = {4, 5, 56, 1, 2, -1, 45, 56}\n",
        "print(numeros)\n",
        "print(len(numeros))"
      ],
      "metadata": {
        "colab": {
          "base_uri": "https://localhost:8080/"
        },
        "id": "gE1O5x4gHf2X",
        "outputId": "64400c6c-ecc2-49f7-93ec-7ceab24bca2d"
      },
      "execution_count": null,
      "outputs": [
        {
          "output_type": "stream",
          "name": "stdout",
          "text": [
            "{1, 2, 4, 5, 56, 45, -1}\n",
            "7\n"
          ]
        }
      ]
    },
    {
      "cell_type": "code",
      "source": [
        "registrados = {\"Ana\", \"Luis\", \"Carlos\", \"Marta\"}\n",
        "entregaron = {\"Luis\", \"Marta\", \"Elena\"}\n",
        "\n",
        "faltantes = registrados.difference(entregaron) # la funcion difference() ve elementos que están en un set pero no en otro.\n",
        "Nentregaron = entregaron.difference(registrados)\n",
        "\n",
        "print(\"No entregaron:\", faltantes)  # {'Ana', 'Carlos'}\n",
        "\n",
        "print(\"Entregaron:\", Nentregaron)"
      ],
      "metadata": {
        "colab": {
          "base_uri": "https://localhost:8080/"
        },
        "id": "BNyMsmClIZ7v",
        "outputId": "d0a91b42-21fc-47f5-dd73-c9546231d1e4"
      },
      "execution_count": null,
      "outputs": [
        {
          "output_type": "stream",
          "name": "stdout",
          "text": [
            "No entregaron: {'Carlos', 'Ana'}\n",
            "Entregaron: {'Elena'}\n"
          ]
        }
      ]
    },
    {
      "cell_type": "code",
      "source": [
        "class Coche:\n",
        "    def __init__(self, marca):\n",
        "        self.marca = marca\n",
        "\n",
        "    def mostrar_marca(self):\n",
        "        print(f\"Este coche es de la marca {self.marca}\")"
      ],
      "metadata": {
        "id": "sOSjA2zKDXOb"
      },
      "execution_count": 1,
      "outputs": []
    },
    {
      "cell_type": "code",
      "source": [
        "class Persona:\n",
        "    def saludar(self):\n",
        "        print(\"Hola\")"
      ],
      "metadata": {
        "id": "3n_q96tCGTAr"
      },
      "execution_count": 3,
      "outputs": []
    },
    {
      "cell_type": "code",
      "source": [
        "lista = [1,2,3,4,5]\n",
        "reves = lista[::-1]\n",
        "print(reves)\n",
        "for i in lista[::-1]:\n",
        "    print(i)"
      ],
      "metadata": {
        "id": "-X8ghzldUNs5",
        "outputId": "a7525619-04ad-4b35-cef0-98936356fa14",
        "colab": {
          "base_uri": "https://localhost:8080/"
        }
      },
      "execution_count": 7,
      "outputs": [
        {
          "output_type": "stream",
          "name": "stdout",
          "text": [
            "[5, 4, 3, 2, 1]\n",
            "5\n",
            "4\n",
            "3\n",
            "2\n",
            "1\n"
          ]
        }
      ]
    }
  ]
}